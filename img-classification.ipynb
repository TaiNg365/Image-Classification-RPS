{
 "cells": [
  {
   "cell_type": "markdown",
   "source": [
    "# Import the neccessary libraries"
   ],
   "metadata": {
    "collapsed": false
   }
  },
  {
   "cell_type": "code",
   "execution_count": 1,
   "metadata": {
    "collapsed": true,
    "pycharm": {
     "name": "#%%\n"
    }
   },
   "outputs": [
    {
     "name": "stdout",
     "output_type": "stream",
     "text": [
      "Init Plugin\n",
      "Init Graph Optimizer\n",
      "Init Kernel\n"
     ]
    }
   ],
   "source": [
    "import numpy as np\n",
    "import matplotlib.pyplot as plt\n",
    "import random\n",
    "import tensorflow.keras\n",
    "import cv2\n",
    "import os\n",
    "import glob\n",
    "from tensorflow.keras import utils\n",
    "from tensorflow.keras.layers import Conv2D, Activation, MaxPool2D, Dense, Flatten, Dropout\n",
    "from sklearn.model_selection import train_test_split\n",
    "from sklearn.metrics import confusion_matrix\n",
    "import seaborn as sns\n",
    "from tensorflow.keras.models import load_model"
   ]
  },
  {
   "cell_type": "markdown",
   "source": [
    "# Reading images data"
   ],
   "metadata": {
    "collapsed": false
   }
  },
  {
   "cell_type": "code",
   "execution_count": null,
   "outputs": [],
   "source": [
    "dir_path = \"/Volumes/GoogleDrive/My Drive/Projects/RPS_Data/Image_Data\"\n",
    "categories = ['rock', 'paper', 'scissors', 'replay', 'none']\n",
    "image_data = []\n",
    "for cat in categories:\n",
    "    path = os.path.join(dir_path, cat)\n",
    "    for img in glob.glob(path + \"/*.jpg\"):\n",
    "        img_arr = cv2.imread(img, cv2.IMREAD_GRAYSCALE)\n",
    "        img_arr = cv2.resize(img_arr, (227, 227))\n",
    "        image_data.append([img_arr, categories.index(cat)])"
   ],
   "metadata": {
    "collapsed": false,
    "pycharm": {
     "name": "#%%\n"
    }
   }
  },
  {
   "cell_type": "markdown",
   "source": [
    "- Define the directory path where the data are stored\n",
    "- Since the dataset contains 5 categories/classes, there are 5 subfolders where each subfolder contain the hand images associated with that particular class.\n",
    "- The classes are:\n",
    "- rock - hand command rock symbol\n",
    "- paper - hand command paper symbol\n",
    "- scissors - hand command paper symbol\n",
    "- replay - hand command to replay\n",
    "- none - random noise"
   ],
   "metadata": {
    "collapsed": false
   }
  },
  {
   "cell_type": "code",
   "execution_count": null,
   "outputs": [],
   "source": [],
   "metadata": {
    "collapsed": false,
    "pycharm": {
     "name": "#%%\n"
    }
   }
  }
 ],
 "metadata": {
  "kernelspec": {
   "display_name": "Python 3",
   "language": "python",
   "name": "python3"
  },
  "language_info": {
   "codemirror_mode": {
    "name": "ipython",
    "version": 2
   },
   "file_extension": ".py",
   "mimetype": "text/x-python",
   "name": "python",
   "nbconvert_exporter": "python",
   "pygments_lexer": "ipython2",
   "version": "2.7.6"
  }
 },
 "nbformat": 4,
 "nbformat_minor": 0
}